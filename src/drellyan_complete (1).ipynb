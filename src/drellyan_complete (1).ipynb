{
 "cells": [
  {
   "cell_type": "code",
   "execution_count": 1,
   "id": "81368a85",
   "metadata": {},
   "outputs": [],
   "source": [
    "import uproot\n",
    "import pandas as pd\n",
    "import awkward as ak\n",
    "import numpy as np \n",
    "import h5py\n",
    "import pandas as pd\n",
    "import numpy as np\n",
    "import math \n",
    "import matplotlib.pyplot as plt\n",
    "import os"
   ]
  },
  {
   "cell_type": "code",
   "execution_count": 2,
   "id": "eae63403",
   "metadata": {},
   "outputs": [
    {
     "name": "stdout",
     "output_type": "stream",
     "text": [
      "['numberjet', 'njet_e', 'jet_e', 'njet_pt', 'jet_pt', 'njet_eta', 'jet_eta', 'njet_phi', 'jet_phi', 'njet_ch', 'jet_ch', 'njet_mass', 'jet_mass', 'njet_btag', 'jet_btag', 'njet_hflav', 'jet_hflav', 'njet_corrpt', 'jet_corrpt', 'njet_corrptUp', 'jet_corrptUp', 'njet_corrptDown', 'jet_corrptDown', 'njet_corrptSmearUp', 'jet_corrptSmearUp', 'njet_corrptSmearDown', 'jet_corrptSmearDown', 'njet_corrmass', 'jet_corrmass', 'njet_corre', 'jet_corre', 'njet_corrpx', 'jet_corrpx', 'njet_corrpy', 'jet_corrpy', 'njet_corrpz', 'jet_corrpz', 'btag_Weight', 'btag_WeightUp', 'btag_WeightDn', 'met_e', 'met_pt', 'met_px', 'met_py', 'met_phi', 'met_significance', 'met_rawpt', 'met_rawphi', 'met_rawe', 'numGenPart', 'nGenPart_pt', 'GenPart_pt', 'nGenPart_eta', 'GenPart_eta', 'nGenPart_mass', 'GenPart_mass', 'nGenPart_pdgId', 'GenPart_pdgId', 'nGenPart_phi', 'GenPart_phi', 'nGenPart_px', 'GenPart_px', 'nGenPart_py', 'GenPart_py', 'nGenPart_pz', 'GenPart_pz', 'nGenPart_status', 'GenPart_status', 'nGenPart_motherId', 'GenPart_motherId', 'numbermuon', 'nmuon_e', 'muon_e', 'nmuon_pt', 'muon_pt', 'nmuon_px', 'muon_px', 'nmuon_py', 'muon_py', 'nmuon_pz', 'muon_pz', 'nmuon_eta', 'muon_eta', 'nmuon_phi', 'muon_phi', 'nmuon_ch', 'muon_ch', 'nmuon_genpartidx', 'muon_genpartidx']\n"
     ]
    }
   ],
   "source": [
    "treename= 'events' \n",
    "\n",
    "filename = {} \n",
    "upfile={}\n",
    "params={}\n",
    "\n",
    "filename['Zmuons']= 'data/drellyan_complete_merged.root'\n",
    "upfile['Zmuons']= uproot.open(f'{filename[\"Zmuons\"]}:{treename}')\n",
    "params['Zmuons']= upfile['Zmuons'].arrays()\n",
    "\n",
    "print(params['Zmuons'][0].fields)\n"
   ]
  },
  {
   "cell_type": "code",
   "execution_count": 3,
   "id": "65f55da9",
   "metadata": {},
   "outputs": [],
   "source": [
    "numbermuon=params['Zmuons']['numbermuon']\n",
    "muon_e=params['Zmuons']['muon_e']\n",
    "muon_ch=params['Zmuons']['muon_ch']\n",
    "muon_pt=params['Zmuons']['muon_pt']\n",
    "muon_eta=params['Zmuons']['muon_eta']\n",
    "muon_phi=params['Zmuons']['muon_phi']\n",
    "numberjet=params['Zmuons']['numberjet']\n",
    "jet_e=params['Zmuons']['jet_e']\n",
    "jet_pt=params['Zmuons']['jet_pt']\n",
    "jet_eta=params['Zmuons']['jet_eta']\n",
    "jet_phi=params['Zmuons']['jet_phi']\n",
    "jet_ch=params['Zmuons']['jet_ch']\n",
    "jet_btag=params['Zmuons']['jet_btag']\n",
    "met_e=params['Zmuons']['met_e']\n",
    "met_phi=params['Zmuons']['met_phi']\n",
    "met_pt=params['Zmuons']['met_pt']"
   ]
  },
  {
   "cell_type": "code",
   "execution_count": 4,
   "id": "2953c6f8",
   "metadata": {},
   "outputs": [
    {
     "data": {
      "text/plain": [
       "44397"
      ]
     },
     "execution_count": 4,
     "metadata": {},
     "output_type": "execute_result"
    }
   ],
   "source": [
    "len(params['Zmuons'])"
   ]
  },
  {
   "cell_type": "code",
   "execution_count": 5,
   "id": "0642b278",
   "metadata": {},
   "outputs": [],
   "source": [
    "numbermuon = np.array(numbermuon)\n",
    "index_dimuon = np.where(numbermuon >= 2)[0]\n",
    "index_dimuon_dch = [i for i in index_dimuon if muon_ch[i, 0] != muon_ch[i, 1]]\n",
    "index_dimuon_ech = [i for i in index_dimuon if muon_ch[i, 0] == muon_ch[i, 1]]\n",
    "    "
   ]
  },
  {
   "cell_type": "code",
   "execution_count": 6,
   "id": "8409b2dd",
   "metadata": {},
   "outputs": [],
   "source": [
    "numberjet = np.array(numberjet)\n",
    "index_dijet = np.where(numberjet >= 1)[0]\n",
    "#index_dijet_dch = [i for i in index_dijet if jet_ch[i, 0] != jet_ch[i, 1]]"
   ]
  },
  {
   "cell_type": "code",
   "execution_count": 7,
   "id": "776b032b",
   "metadata": {},
   "outputs": [
    {
     "name": "stdout",
     "output_type": "stream",
     "text": [
      "30267 25499 4768\n"
     ]
    }
   ],
   "source": [
    "print(len(index_dimuon), len(index_dimuon_dch),len(index_dimuon_ech))"
   ]
  },
  {
   "cell_type": "code",
   "execution_count": 8,
   "id": "2f173664",
   "metadata": {},
   "outputs": [
    {
     "name": "stdout",
     "output_type": "stream",
     "text": [
      "36294\n"
     ]
    }
   ],
   "source": [
    "print(len(index_dijet))"
   ]
  },
  {
   "cell_type": "code",
   "execution_count": 9,
   "id": "4b2bd6f5",
   "metadata": {},
   "outputs": [],
   "source": [
    "# m^2=2pt1*2pt2*(cosh(eta1-eta2)-cos(phi1-phi2))\n",
    "\n",
    "#invariant mass\n",
    "\n",
    "dm_imass=[]\n",
    "\n",
    "for i in index_dimuon_dch:\n",
    "    imass=(2*muon_pt[i][0]*muon_pt[i][1]*(np.cosh(muon_eta[i][0]-muon_eta[i][1])-np.cos(muon_phi[i][0]-muon_phi[i][1])))**(1/2)\n",
    "    dm_imass.append(imass)\n",
    "    "
   ]
  },
  {
   "cell_type": "code",
   "execution_count": 10,
   "id": "b9b986a2",
   "metadata": {
    "scrolled": false
   },
   "outputs": [
    {
     "data": {
      "image/png": "[encoded data removed]",
      "text/plain": [
       "<Figure size 640x480 with 1 Axes>"
      ]
     },
     "metadata": {},
     "output_type": "display_data"
    },
    {
     "data": {
      "text/plain": [
       "\"\\n\\nplt.figure(figsize=(5, 4),dpi=100)\\nplt.xlabel(VARS[0])\\nbins = np.linspace(0, 4000, 25)\\ndm_imass.plot.hist(bins=bins, alpha=1, label='muon_e',histtype='step')\\n#df['VV'][VARS[1]].plot.hist(bins=bins, alpha=1, label='VV',histtype='step')\\nplt.legend(loc='upper right')\\nplt.xlim(0,5000)\\n\""
      ]
     },
     "execution_count": 10,
     "metadata": {},
     "output_type": "execute_result"
    }
   ],
   "source": [
    "import matplotlib.pyplot as plt\n",
    "%matplotlib inline\n",
    "\n",
    "\n",
    "\n",
    "plt.hist(dm_imass, bins='auto', histtype='step', fill=False)  # arguments are passed to np.histogram\n",
    "plt.title(\"dimuon invariant mass\")\n",
    "plt.xlim([0,300])\n",
    "plt.xlabel('Dimuon mass [GeV]')\n",
    "plt.show()\n",
    "\n",
    "'''\n",
    "\n",
    "plt.figure(figsize=(5, 4),dpi=100)\n",
    "plt.xlabel(VARS[0])\n",
    "bins = np.linspace(0, 4000, 25)\n",
    "dm_imass.plot.hist(bins=bins, alpha=1, label='muon_e',histtype='step')\n",
    "#df['VV'][VARS[1]].plot.hist(bins=bins, alpha=1, label='VV',histtype='step')\n",
    "plt.legend(loc='upper right')\n",
    "plt.xlim(0,5000)\n",
    "'''"
   ]
  },
  {
   "cell_type": "code",
   "execution_count": 11,
   "id": "04235049",
   "metadata": {},
   "outputs": [],
   "source": [
    "muonspjets=np.intersect1d(index_dimuon, index_dijet)"
   ]
  },
  {
   "cell_type": "code",
   "execution_count": 50,
   "id": "171d304c",
   "metadata": {},
   "outputs": [
    {
     "data": {
      "text/plain": [
       "27699"
      ]
     },
     "execution_count": 50,
     "metadata": {},
     "output_type": "execute_result"
    }
   ],
   "source": [
    "len(muonspjets)"
   ]
  },
  {
   "cell_type": "code",
   "execution_count": 33,
   "id": "bbbdd7d5",
   "metadata": {
    "scrolled": true
   },
   "outputs": [
    {
     "data": {
      "image/png": "[encoded data removed]",
      "text/plain": [
       "<Figure size 480x480 with 1 Axes>"
      ]
     },
     "metadata": {},
     "output_type": "display_data"
    }
   ],
   "source": [
    "c=0.1\n",
    "cm=0.25\n",
    "a_1=0.4\n",
    "#my_dpi=96\n",
    "my_dpi=96\n",
    "angle = np.linspace(0,2*np.pi,125)\n",
    "#fig, ax = plt.subplots(figsize=(244/my_dpi, 244/my_dpi), dpi=my_dpi)\n",
    "fig, ax = plt.subplots(figsize=(480/my_dpi, 480/my_dpi), dpi=my_dpi)\n",
    "ejemplo = [0]\n",
    "\n",
    "for i in ejemplo:  \n",
    "\n",
    "    muonfill = muon_ch[i][0] == 1\n",
    "    muonfill2 = muon_ch[i][1] == 1\n",
    "  \n",
    "    radius = cm*np.log(muon_pt[i][0])  #muon1\n",
    "    radius_1 = cm*np.log(muon_pt[i][1]) #muon2 \n",
    "    radius_2 = c*np.log(met_pt[i])   #met\n",
    "    radius_3 = c*np.log(jet_pt[i][0])   #jet    \n",
    "\n",
    "    x = radius * np.cos( angle )+ muon_eta[i][0]*a_1   #muon1 \n",
    "    y = radius * np.sin( angle ) + muon_phi[i][0]*a_1  #muon1 \n",
    " \n",
    "    x_1 = radius_1 * np.cos( angle )+ muon_eta[i][1]*a_1   #muon2\n",
    "    y_1 = radius_1 * np.sin( angle ) + muon_phi[i][1]*a_1   #muon2 \n",
    "\n",
    "    x_2 = radius_2 * np.cos( angle )+ 0                 #met \n",
    "    y_2 = radius_2 * np.sin( angle ) + met_phi[i]*a_1   #met\n",
    "    \n",
    "    x_3 = radius_3 * np.cos( angle )+ jet_eta[i][0]*a_1   #jet1 \n",
    "    y_3 = radius_3 * np.sin( angle ) + jet_phi[i][0]*a_1  #jet1\n",
    " \n",
    "    ax.clear()\n",
    "   # jet2\n",
    "    if len(jet_pt[i]) > 1:\n",
    "        radius_4 = c*np.log(jet_pt[i][1])\n",
    "        x_4 = radius_4 * np.cos( angle )+ jet_eta[i][1]*a_1   #jet2 \n",
    "        y_4 = radius_4 * np.sin( angle ) + jet_phi[i][1]*a_1  #jet2\n",
    "        #plt.plot(x_4, y_4,'-,b')\n",
    "\n",
    "    #jet 3\n",
    "    if len(jet_pt[i]) > 2:\n",
    "        radius_5 = c*np.log(jet_pt[i][2])\n",
    "        x_5 = radius_5 * np.cos( angle )+ jet_eta[i][2]*a_1   #jet3 \n",
    "        y_5 = radius_5 * np.sin( angle ) + jet_phi[i][2]*a_1  #jet3\n",
    "        #plt.plot(x_5, y_5,'-,b')\n",
    "\n",
    "    #jet 4\n",
    "    if len(jet_pt[i]) > 3:\n",
    "        radius_6 = c*np.log(jet_pt[i][3])\n",
    "        x_6 = radius_6 * np.cos( angle )+ jet_eta[i][3]*a_1   #jet4 \n",
    "        y_6 = radius_6 * np.sin( angle ) + jet_phi[i][3]*a_1  #jet4\n",
    "        #plt.plot(x_6, y_6,'-,b')\n",
    "\n",
    "        \n",
    "    plt.plot(x,y,'-,r', lw=muonfill+1)\n",
    "    plt.plot(x_1,y_1,'-,r',lw=muonfill2+1)\n",
    "    #plt.plot(x_2, y_2,'-,k')\n",
    "    #plt.plot(x_3, y_3,'-,b')\n",
    "\n",
    "    plt.xlim([-np.pi,np.pi])\n",
    "    plt.ylim([-np.pi,np.pi])\n",
    "    #plt.axis('off')\n",
    "    ax.set_aspect('equal', adjustable='box')\n",
    "    plt.xlabel('η', fontsize=25)\n",
    "    plt.ylabel('ϕ',fontsize=25, rotation=0)\n",
    "    plt.tight_layout()\n",
    "    #plt.savefig(\"4jets_wcharge_FULL/drellyan/dy_{}\".format(i))\n",
    "    \n",
    "#plt.close(fig)"
   ]
  },
  {
   "cell_type": "code",
   "execution_count": 52,
   "id": "ec6b99e5",
   "metadata": {},
   "outputs": [
    {
     "data": {
      "text/plain": [
       "'\\nfigure, axes = plt.subplots(figsize=(244/my_dpi, 244/my_dpi), dpi=my_dpi)\\nfor i in muonspjets[:11000]:   \\n    muonfill = muon_ch[i][0] == 1\\n    muonfill2 = muon_ch[i][1] == 1\\n    \\n    radius = cm*np.log(muon_pt[i][0])  #muon1\\n    radius_1 = cm*np.log(muon_pt[i][1]) #muon2 \\n    radius_2 = c*np.log(met_pt[i])   #met\\n    radius_3 = c*np.log(jet_pt[i][0])   #jet    \\n\\n\\n    muon1 = plt.Circle((muon_eta[i][0]*a_1, muon_phi[i][0]*a_1), radius ,color=\\'r\\',alpha=0.4, fill=muonfill)\\n    muon2 = plt.Circle((muon_eta[i][1]*a_1, muon_phi[i][1]*a_1), radius_1 ,color=\\'r\\',alpha=0.4, fill=muonfill2)\\n    jet = plt.Circle((jet_eta[i][0]*a_1, jet_phi[i][0]*a_1), radius_3, color=\\'b\\', fill=0)\\n    met = plt.Circle((0, met_phi[i]*a_1), radius_2, color=\\'k\\', fill=0)\\n    \\n    axes.clear()\\n    axes.set_aspect(\\'equal\\',adjustable=\\'box\\')\\n    axes.add_artist(muon1)\\n    axes.add_artist(muon2)\\n    axes.add_artist(jet)\\n    axes.add_artist(met)\\n    axes.set_xlim([-3,3])\\n    axes.set_ylim([-np.pi,np.pi])\\n    axes.axis(\\'off\\')\\n    plt.tight_layout()\\n    plt.savefig(\"compleximages/drellyan/dy_{}.png\".format(i))\\n    \\nplt.close(figure)\\n'"
      ]
     },
     "execution_count": 52,
     "metadata": {},
     "output_type": "execute_result"
    }
   ],
   "source": [
    "#fig, ax = plt.subplots(figsize=(244/my_dpi, 244/my_dpi), dpi=my_dpi)\n",
    "'''\n",
    "figure, axes = plt.subplots(figsize=(244/my_dpi, 244/my_dpi), dpi=my_dpi)\n",
    "for i in muonspjets[:11000]:   \n",
    "    muonfill = muon_ch[i][0] == 1\n",
    "    muonfill2 = muon_ch[i][1] == 1\n",
    "    \n",
    "    radius = cm*np.log(muon_pt[i][0])  #muon1\n",
    "    radius_1 = cm*np.log(muon_pt[i][1]) #muon2 \n",
    "    radius_2 = c*np.log(met_pt[i])   #met\n",
    "    radius_3 = c*np.log(jet_pt[i][0])   #jet    \n",
    "\n",
    "\n",
    "    muon1 = plt.Circle((muon_eta[i][0]*a_1, muon_phi[i][0]*a_1), radius ,color='r',alpha=0.4, fill=muonfill)\n",
    "    muon2 = plt.Circle((muon_eta[i][1]*a_1, muon_phi[i][1]*a_1), radius_1 ,color='r',alpha=0.4, fill=muonfill2)\n",
    "    jet = plt.Circle((jet_eta[i][0]*a_1, jet_phi[i][0]*a_1), radius_3, color='b', fill=0)\n",
    "    met = plt.Circle((0, met_phi[i]*a_1), radius_2, color='k', fill=0)\n",
    "    \n",
    "    axes.clear()\n",
    "    axes.set_aspect('equal',adjustable='box')\n",
    "    axes.add_artist(muon1)\n",
    "    axes.add_artist(muon2)\n",
    "    axes.add_artist(jet)\n",
    "    axes.add_artist(met)\n",
    "    axes.set_xlim([-3,3])\n",
    "    axes.set_ylim([-np.pi,np.pi])\n",
    "    axes.axis('off')\n",
    "    plt.tight_layout()\n",
    "    plt.savefig(\"compleximages/drellyan/dy_{}.png\".format(i))\n",
    "    \n",
    "plt.close(figure)\n",
    "'''"
   ]
  },
  {
   "cell_type": "code",
   "execution_count": 12,
   "id": "6224262b",
   "metadata": {},
   "outputs": [
    {
     "data": {
      "text/plain": [
       "array([    0,     2,     3, ..., 44393, 44394, 44396])"
      ]
     },
     "execution_count": 12,
     "metadata": {},
     "output_type": "execute_result"
    }
   ],
   "source": [
    "muonspjets"
   ]
  },
  {
   "cell_type": "code",
   "execution_count": null,
   "id": "c518f3d8",
   "metadata": {},
   "outputs": [],
   "source": []
  }
 ],
 "metadata": {
  "kernelspec": {
   "display_name": "python-analysis-env",
   "language": "python",
   "name": "python-analysis-env"
  },
  "language_info": {
   "codemirror_mode": {
    "name": "ipython",
    "version": 3
   },
   "file_extension": ".py",
   "mimetype": "text/x-python",
   "name": "python",
   "nbconvert_exporter": "python",
   "pygments_lexer": "ipython3",
   "version": "3.10.8"
  }
 },
 "nbformat": 4,
 "nbformat_minor": 5
}
